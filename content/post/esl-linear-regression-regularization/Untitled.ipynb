{
 "cells": [
  {
   "cell_type": "code",
   "execution_count": 168,
   "metadata": {},
   "outputs": [],
   "source": [
    "import numpy as np\n",
    "import pandas as pd\n",
    "from sklearn.model_selection import train_test_split\n",
    "url = 'https://web.stanford.edu/~hastie/ElemStatLearn/datasets/prostate.data'\n",
    "df = pd.read_csv(url, sep='\\t', header=0)\n",
    "df.loc[df['train']=='T','train']=1\n",
    "df.loc[df['train']=='F','train']=0\n",
    "X=df.drop(['Unnamed: 0','train'],axis=1)\n",
    "Y=np.array(df.train)\n",
    "X_train,X_test,Y_train,Y_test=train_test_split(X,Y,test_size=30)\n",
    "X_train,X_val,Y_train,Y_val=train_test_split(X_train,Y_train,test_size=0.1)"
   ]
  },
  {
   "cell_type": "code",
   "execution_count": 172,
   "metadata": {},
   "outputs": [
    {
     "data": {
      "text/plain": [
       "(97, 11)"
      ]
     },
     "execution_count": 172,
     "metadata": {},
     "output_type": "execute_result"
    }
   ],
   "source": [
    "df.shape"
   ]
  },
  {
   "cell_type": "code",
   "execution_count": 128,
   "metadata": {},
   "outputs": [
    {
     "name": "stdout",
     "output_type": "stream",
     "text": [
      "training   error: 0.2020155077566104\n",
      "validation error: 0.2314586180268805\n"
     ]
    }
   ],
   "source": [
    "from sklearn.linear_model import Lasso\n",
    "clf=Lasso(alpha=0.1) #alpha corresponds to lambda\n",
    "clf.fit(X_train,Y_train)\n",
    "print('training   error:', np.mean((clf.predict(X_train)-np.array(Y_train))**2))\n",
    "print('validation error:', np.mean((clf.predict(X_val)-np.array(Y_val))**2))"
   ]
  },
  {
   "cell_type": "code",
   "execution_count": 129,
   "metadata": {},
   "outputs": [
    {
     "name": "stdout",
     "output_type": "stream",
     "text": [
      "training   error: 0.17829465467072095\n",
      "validation error: 0.20958492180192875\n"
     ]
    }
   ],
   "source": [
    "from sklearn.linear_model import ElasticNet\n",
    "clf=ElasticNet(alpha=0.1, l1_ratio=0.5)\n",
    "clf.fit(X_train,Y_train)\n",
    "print('training   error:', np.mean((clf.predict(X_train)-np.array(Y_train))**2))\n",
    "print('validation error:', np.mean((clf.predict(X_val)-np.array(Y_val))**2))"
   ]
  },
  {
   "cell_type": "code",
   "execution_count": 141,
   "metadata": {},
   "outputs": [
    {
     "name": "stdout",
     "output_type": "stream",
     "text": [
      "training   error: 0.20002469206694784\n",
      "validation error: 0.21121359479375348\n"
     ]
    }
   ],
   "source": [
    "from sklearn.decomposition import TruncatedSVD\n",
    "from sklearn.linear_model import LinearRegression\n",
    "svd=TruncatedSVD(n_components=5,random_state=42) #n_components corresponds to dimension\n",
    "Z_train=svd.fit_transform(X_train)\n",
    "Z_val=svd.transform(X_val)\n",
    "clf=LinearRegression(normalize=True)\n",
    "clf.fit(Z_train,Y_train)\n",
    "print('training   error:', np.mean((clf.predict(Z_train)-np.array(Y_train))**2))\n",
    "print('validation error:', np.mean((clf.predict(Z_val)-np.array(Y_val))**2))"
   ]
  },
  {
   "cell_type": "code",
   "execution_count": 167,
   "metadata": {},
   "outputs": [
    {
     "name": "stdout",
     "output_type": "stream",
     "text": [
      "[ 0.00931832 -0.00541911 -0.01925209  0.01461905 -0.03733386]\n",
      "[0.009438718, -0.005490217, -0.019083899, 0.014767645, -0.036804121]\n"
     ]
    }
   ],
   "source": [
    "m=3\n",
    "theta = [np.dot(Y_train,Z_train[:,m]) / np.dot(Z_train[:,m],Z_train[:,m]) for m in range (clf.coef_.shape[0])]\n",
    "theta = [round(item,9) for item in theta]\n",
    "print(clf.coef_)\n",
    "print(theta)"
   ]
  },
  {
   "cell_type": "code",
   "execution_count": null,
   "metadata": {},
   "outputs": [],
   "source": []
  }
 ],
 "metadata": {
  "kernelspec": {
   "display_name": "Python 3",
   "language": "python",
   "name": "python3"
  },
  "language_info": {
   "codemirror_mode": {
    "name": "ipython",
    "version": 3
   },
   "file_extension": ".py",
   "mimetype": "text/x-python",
   "name": "python",
   "nbconvert_exporter": "python",
   "pygments_lexer": "ipython3",
   "version": "3.6.7"
  }
 },
 "nbformat": 4,
 "nbformat_minor": 2
}
